{
 "cells": [
  {
   "cell_type": "code",
   "execution_count": 10,
   "metadata": {},
   "outputs": [],
   "source": [
    "import numpy as np\n",
    "\n",
    "import sklearn.manifold\n",
    "from sklearn.neighbors import KNeighborsClassifier\n",
    "from sklearn.decomposition import PCA, SparsePCA, FastICA"
   ]
  },
  {
   "cell_type": "code",
   "execution_count": 6,
   "metadata": {},
   "outputs": [],
   "source": [
    "X_train, y_train = np.load('data/kmnist-train-imgs.npz')['arr_0'], np.load('data/kmnist-train-labels.npz')['arr_0']\n",
    "X_test, y_test = np.load('data/kmnist-test-imgs.npz')['arr_0'], np.load('data/kmnist-test-labels.npz')['arr_0']"
   ]
  },
  {
   "cell_type": "code",
   "execution_count": 7,
   "metadata": {},
   "outputs": [],
   "source": [
    "X_train = X_train.reshape((-1, 28 * 28))\n",
    "X_test = X_test.reshape((-1, 28 * 28))"
   ]
  },
  {
   "cell_type": "code",
   "execution_count": 9,
   "metadata": {},
   "outputs": [],
   "source": [
    "components = [i for i in range(0, 784, 50)]"
   ]
  },
  {
   "cell_type": "code",
   "execution_count": null,
   "metadata": {},
   "outputs": [],
   "source": [
    "pca_scores = []\n",
    "for component in components:\n",
    "    pca = PCA(n_components=components)\n",
    "    \n",
    "    X_train_transformed = pca.fit_transform(X_train)\n",
    "    X_test_transformed = pca.transform(X_test)\n",
    "    \n",
    "    model = KNeighborsClassifier(n_neighbors=54, n_jobs=-1)\n",
    "    model.fit(X_train_transformed, y_train)\n",
    "    \n",
    "    score = model.score(X_test_transformed, y_test)\n",
    "    \n",
    "    pca_scores += [score]"
   ]
  },
  {
   "cell_type": "code",
   "execution_count": null,
   "metadata": {},
   "outputs": [],
   "source": [
    "isomap_scores = []\n",
    "for component in components:\n",
    "    isomap = sklearn.manifold.Isomap(n_neighbors=4, \n",
    "                                     n_components=components, n_jobs=-1)\n",
    "    \n",
    "    X_train_transformed = isomap.fit_transform(X_train)\n",
    "    X_test_transformed = isomap.transform(X_test)\n",
    "    \n",
    "    model = KNeighborsClassifier(n_neighbors=4, n_jobs=-1)\n",
    "    model.fit(X_train_transformed, y_train)\n",
    "    \n",
    "    score = model.score(X_test_transformed, y_test)\n",
    "    \n",
    "    isomap_scores += [score]"
   ]
  },
  {
   "cell_type": "code",
   "execution_count": null,
   "metadata": {},
   "outputs": [],
   "source": [
    "fastICA_scores = []\n",
    "for component in components:\n",
    "    fastICA = FastICA(n_components=components)\n",
    "    \n",
    "    X_train_transformed = fastICA.fit_transform(X_train)\n",
    "    X_test_transformed = fastICA.transform(X_test)\n",
    "    \n",
    "    model = KNeighborsClassifier(n_neighbors=4, n_jobs=-1)\n",
    "    model.fit(X_train_transformed, y_train)\n",
    "    \n",
    "    score = model.score(X_test_transformed, y_test)\n",
    "    \n",
    "    fastICA_scores += [score]"
   ]
  }
 ],
 "metadata": {
  "kernelspec": {
   "display_name": "Python 3",
   "language": "python",
   "name": "python3"
  },
  "language_info": {
   "codemirror_mode": {
    "name": "ipython",
    "version": 3
   },
   "file_extension": ".py",
   "mimetype": "text/x-python",
   "name": "python",
   "nbconvert_exporter": "python",
   "pygments_lexer": "ipython3",
   "version": "3.6.6"
  }
 },
 "nbformat": 4,
 "nbformat_minor": 2
}
