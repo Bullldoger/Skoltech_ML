{
 "cells": [
  {
   "cell_type": "markdown",
   "metadata": {
    "colab_type": "text",
    "id": "TeKGw879FzoI"
   },
   "source": [
    "# Home Assignment No. 3: Part 1 "
   ]
  },
  {
   "cell_type": "markdown",
   "metadata": {
    "colab_type": "text",
    "id": "j8OiUER8FzoJ"
   },
   "source": [
    "In this part of the homework you are to solve several problems related to machine learning algorithms.\n",
    "* For every separate problem you can get only 0 points or maximal points for this problem. There are **NO INTERMEDIATE scores**.\n",
    "* Your solution must me **COMPLETE**, i.e. contain all required formulas/proofs/detailed explanations.\n",
    "* You must write your solution for any problem just right after the words **BEGIN SOLUTION**. Attaching pictures of your handwriting is allowed, but **highly discouraged**.\n",
    "* If you want an easy life, you have to use **BUILT-IN METHODS** of `sklearn` library instead of writing tons of our yown code. There exists a class/method for almost everything you can imagine (related to this homework).\n",
    "* To do some tasks in this part of homework, you have to write **CODE** directly inside specified places inside notebook **CELLS**.\n",
    "* In some problems you may be asked to provide short discussion of the results. In this cases you have to create **MARKDOWN** cell with your comments right after the your code cell.\n",
    "* Your **SOLUTION** notebook **MUST BE REPRODUCIBLE**, i.e. if the reviewer decides to execute `Kernel` -> `Restart Kernel and Run All Cells`, after all the computation he will obtain exactly the same solution (with all the corresponding plots) as in your uploaded notebook. For this purpose, we suggest to fix random `seed` or (better) define `random_state=` inside every algorithm that uses some pseudorandomness.\n",
    "\n",
    "* Your code must be clear to the reviewer. For this purpose, try to include neccessary comments inside the code. But remember: **GOOD CODE MUST BE SELF-EXPLANATORY** without any additional comments.\n",
    "* The are problems with \\* mark - they are not obligatory. You can get **EXTRA POINTS** for solving them.\n",
    "## $\\LaTeX$ in Jupyter\n",
    "Jupyter has constantly improving $\\LaTeX$ support. Below are the basic methods to\n",
    "write **neat, tidy, and well typeset** equations in your notebooks:\n",
    "* to write an **inline** equation use \n",
    "```markdown\n",
    "$ you latex equation here $\n",
    "```\n",
    "* to write an equation, that is **displayed on a separate line** use \n",
    "```markdown\n",
    "$$ you latex equation here $$\n",
    "```\n",
    "* to write a **block of equations** use \n",
    "```markdown\n",
    "\\begin{align}\n",
    "    left-hand-side\n",
    "        &= right-hand-side on line 1\n",
    "        \\\\\n",
    "        &= right-hand-side on line 2\n",
    "        \\\\\n",
    "        &= right-hand-side on the last line\n",
    "\\end{align}\n",
    "```\n",
    "The **ampersand** (`&`) aligns the equations horizontally and the **double backslash**\n",
    "(`\\\\`) creates a new line."
   ]
  },
  {
   "cell_type": "markdown",
   "metadata": {
    "colab_type": "text",
    "id": "RtzFOsi_FzoK"
   },
   "source": [
    "Write your theoretical derivations within such blocks:\n",
    "```markdown\n",
    "**BEGIN Solution**\n",
    "\n",
    "<!-- >>> your derivation here <<< -->\n",
    "\n",
    "**END Solution**\n",
    "```"
   ]
  },
  {
   "cell_type": "markdown",
   "metadata": {
    "colab_type": "text",
    "id": "81iKbF_eFzoL"
   },
   "source": [
    "Please, write your implementation within the designated blocks:\n",
    "```python\n",
    "...\n",
    "### BEGIN Solution\n",
    "\n",
    "# >>> your solution here <<<\n",
    "\n",
    "### END Solution\n",
    "...\n",
    "```\n"
   ]
  },
  {
   "cell_type": "markdown",
   "metadata": {
    "colab_type": "text",
    "id": "ZjTQHlGHFzoL"
   },
   "source": [
    "<br>"
   ]
  },
  {
   "cell_type": "code",
   "execution_count": 18,
   "metadata": {
    "colab": {},
    "colab_type": "code",
    "id": "faeqGsrsFzoM"
   },
   "outputs": [],
   "source": [
    "import numpy as np\n",
    "import pandas as pd\n",
    "\n",
    "import torch\n",
    "\n",
    "%matplotlib inline\n",
    "import matplotlib.pyplot as plt"
   ]
  },
  {
   "cell_type": "markdown",
   "metadata": {
    "colab_type": "text",
    "id": "XEoNzf43FzoP"
   },
   "source": [
    "<br>"
   ]
  },
  {
   "cell_type": "markdown",
   "metadata": {
    "colab_type": "text",
    "id": "amYsX3DKFzoQ"
   },
   "source": [
    "# Bayesian Models. GLM"
   ]
  },
  {
   "cell_type": "markdown",
   "metadata": {
    "colab_type": "text",
    "id": "cE9Krb1jFzoR"
   },
   "source": [
    "## Task 1 (1 pt.)\n",
    "\n",
    "Consider a univariate Gaussian distribution $\\mathcal{N}(x; \\mu, \\tau^{-1})$.\n",
    "Let's define Gaussian-Gamma prior for parameters $(\\mu, \\tau)$:\n",
    "\n",
    "\\begin{equation}\n",
    "    p(\\mu, \\tau)\n",
    "        = \\mathcal{N}(\\mu; \\mu_0, (\\beta \\tau)^{-1})\n",
    "            \\otimes \\text{Gamma}(\\tau; a, b)\n",
    "        \\,.\n",
    "\\end{equation}\n",
    "\n",
    "Find the posterior distribution of $(\\mu, \\tau)$ after observing $X = (x_1, \\dots, x_n)$."
   ]
  },
  {
   "cell_type": "markdown",
   "metadata": {
    "colab_type": "text",
    "id": "qIidE2gFFzoR"
   },
   "source": [
    "**BEGIN Solution**\n",
    "\n",
    "Materials:\n",
    "- https://www.inf.ed.ac.uk/teaching/courses/mlpr/2016/notes/w2b_univariate_gaussian.pdf\n",
    "- http://www.cs.cmu.edu/~aarti/Class/10601/homeworks/hw2Solutions.pdf\n",
    "\n",
    "##### Solution\n",
    "\n",
    "$$\n",
    "p(\\mu, \\tau | x) = \\dfrac{p(x | \\mu, \\tau) p(\\mu, \\tau)}{p(x)}\n",
    "$$\n",
    "Where, $ p(x | \\mu, \\tau) = \\dfrac{1}{ (2\\pi)^{\\dfrac{n}{2}} det(\\tau)^{\\dfrac{1}{2}} } exp \\left( -\\dfrac{1}{2} (x - \\mu)^\\top \\tau^{-1} (x - \\mu) \\right ) $ - likelihood function \n",
    "\n",
    "$ p(\\mu, \\tau) = \\mathcal{N}(\\mu; \\mu_0, (\\beta \\tau)^{-1}) \\otimes \\text{Gamma}(\\tau; a, b) $\n",
    "\n",
    "$ p(x) = \\mathcal{N}(x; \\mu, \\tau^{-1}) = C $\n",
    "\n",
    "$$\n",
    "p(x | \\mu, \\tau) = \\prod_{i = 1}^{n} p(x_i | \\mu, \\tau) = \\prod_{i = 1}^{n} \\dfrac{1}{ (2\\pi)^{\\dfrac{n}{2}} det(\\tau)^{\\dfrac{1}{2}} } exp \\left( -\\dfrac{1}{2} (x_i - \\mu)^\\top \\tau^{-1} (x_i - \\mu) \\right ) \\\\\n",
    "log(p(x | \\mu, \\tau)) = \\sum_{i = 1}^{n} log(p(x_i | \\mu, \\tau)) = \\sum_{i = 1}^{n} log \\left [ \\dfrac{1}{ (2\\pi)^{\\dfrac{n}{2}} det(\\tau)^{\\dfrac{1}{2}} } exp \\left( -\\dfrac{1}{2} (x_i - \\mu)^\\top \\tau^{-1} (x_i - \\mu) \\right ) \\right ] = \\\\ = \\sum_{i = 1}^{n} log \\left [ \\dfrac{1}{ (2\\pi)^{\\dfrac{n}{2}} det(\\tau)^{\\dfrac{1}{2}} } \\right ] -\\dfrac{1}{2} \\sum_{i = 1}^{n} log \\left [ (x_i - \\mu)^\\top \\tau^{-1} (x_i - \\mu) \\right ] = \\\\ = -\\sum_{i = 1}^{n} log \\left [ (2 \\pi)^{\\dfrac{n}{2}} det(\\tau)^{\\dfrac{1}{2}} \\right ] - \\dfrac{1}{2} \\sum_{i = 1}^{n} log \\left [ (x_i - \\mu)^\\top \\tau^{-1} (x_i - \\mu) \\right ] = \\\\ = -\\dfrac{n^2}{2} log \\left ( 2 \\pi \\right ) - \\dfrac{n}{2} det(\\tau) - \\dfrac{1}{2} \\sum_{i = 1}^{n} log \\left [ (x_i - \\mu)^\\top \\tau^{-1} (x_i - \\mu) \\right ] \n",
    "$$ \n",
    "\n",
    "$$\n",
    "p(\\mu, \\tau | x) = \\dfrac{ \\left [ \\prod_{i = 1}^{n} \\dfrac{1}{ (2\\pi)^{\\dfrac{n}{2}} det(\\tau)^{\\dfrac{1}{2}} } exp \\left( -\\dfrac{1}{2} (x_i - \\mu)^\\top \\tau^{-1} (x_i - \\mu) \\right ) \\right ] \\left [ \\mathcal{N}(\\mu; \\mu_0, (\\beta \\tau)^{-1}) \\otimes \\text{Gamma}(\\tau; a, b) \\right ] }{ C }\n",
    "$$\n",
    "\n",
    "**END Solution**"
   ]
  },
  {
   "cell_type": "markdown",
   "metadata": {
    "colab_type": "text",
    "id": "VKPtwQhFFzoS"
   },
   "source": [
    "<br>"
   ]
  },
  {
   "cell_type": "markdown",
   "metadata": {
    "colab_type": "text",
    "id": "MjdM2qMJFzoT"
   },
   "source": [
    "## Task 2 (1 + 1 + 1 = 3 pt.)\n",
    "\n",
    "Evaluate the following integral using the Laplace approximation:\n",
    "\\begin{equation}\n",
    "    x \\mapsto \\int \\sigma(w^T x) \\mathcal{N}(w; 0, \\Sigma) dw \\,,\n",
    "\\end{equation}\n",
    "for $x = \\bigl(\\tfrac23, \\tfrac16, \\tfrac16\\bigr)\\in \\mathbb{R}^3$ and \n",
    "\\begin{equation}\n",
    "    \\Sigma\n",
    "        = \\begin{pmatrix}\n",
    "             1    & -0.25 & 0.75 \\\\\n",
    "            -0.25 &  1    & 0.5  \\\\\n",
    "             0.75 &  0.5  & 2\n",
    "           \\end{pmatrix}\n",
    "        \\,.\n",
    "\\end{equation}"
   ]
  },
  {
   "cell_type": "markdown",
   "metadata": {},
   "source": [
    "$$\n",
    "\\int \\sigma(w^T x) \\mathcal{N}(w; 0, \\Sigma) dw \\ = \\int \\dfrac{1}{1 + exp(-w^T x)} \\mathcal{N}(w; 0, \\Sigma) dw = \\\\ =\n",
    "\\int \\left [ \\dfrac{1}{1 + exp(-w^T x)} (2 \\pi)^{-\\frac{n}{2}} det(\\Sigma)^{\\frac{1}{2}} exp^{-\\frac{1}{2} w^\\top \\Sigma^{-1} w} dw \\right ] = (2 \\pi)^{-\\frac{n}{2}} det(\\Sigma)^{\\frac{1}{2}} \\int \\left [ \\dfrac{1}{1 + exp(-w^T x)} exp^{-\\frac{1}{2} w^\\top \\Sigma^{-1} w} dw \\right ] = \\\\ = \\begin{cases}\n",
    "    (2 \\pi)^{-\\frac{n}{2}} det(\\Sigma)^{\\frac{1}{2}} \\int \\sigma(w) exp(-\\frac{1}{2} p(w)) dw  \\\\\n",
    "    p(w) = w^\\top \\Sigma^{-1} w \\\\\n",
    "    \\sigma(w) = \\dfrac{1}{1 + exp(-w^T x)}\n",
    "\\end{cases} = (2 \\pi)^{-\\frac{n}{2}} det(\\Sigma)^{\\frac{1}{2}} \\left ( \\frac{2 \\pi}{-\\frac{1}{2}} \\right )^{\\frac{n}{2}} \\dfrac{exp(-\\frac{1}{2} p(w))}{ \\left | -H(p)(w_0) \\right |^{\\frac{1}{2}} }\n",
    "$$"
   ]
  },
  {
   "cell_type": "markdown",
   "metadata": {
    "colab_type": "text",
    "id": "xVXtmt1nFzoT"
   },
   "source": [
    "### Task 2.1 (1 pt.)\n",
    "Use the Hessian matrix computed numericaly via finite differences. (Check out [Numdifftools](https://pypi.python.org/pypi/Numdifftools))"
   ]
  },
  {
   "cell_type": "code",
   "execution_count": 19,
   "metadata": {
    "colab": {},
    "colab_type": "code",
    "id": "lg8gOgPGFzoU"
   },
   "outputs": [],
   "source": [
    "import numdifftools as nd\n",
    "from scipy.optimize import minimize\n",
    "import numpy as np\n",
    "\n",
    "%matplotlib inline\n",
    "import matplotlib.pyplot as plt"
   ]
  },
  {
   "cell_type": "code",
   "execution_count": 20,
   "metadata": {
    "colab": {},
    "colab_type": "code",
    "id": "AiOiVXs5FzoX"
   },
   "outputs": [],
   "source": [
    "### BEGIN Solution\n",
    "\n",
    "### END Solution"
   ]
  },
  {
   "cell_type": "markdown",
   "metadata": {
    "colab_type": "text",
    "id": "Z6iavCGvFzob"
   },
   "source": [
    "<br>"
   ]
  },
  {
   "cell_type": "markdown",
   "metadata": {
    "colab_type": "text",
    "id": "OkW0E4UZFzob"
   },
   "source": [
    "### Task 2.2 (1 pt.)\n",
    "Use the diagonal approximation of the Hessian computed by autodifferentiation\n",
    "in **pytorch**."
   ]
  },
  {
   "cell_type": "code",
   "execution_count": 21,
   "metadata": {
    "colab": {},
    "colab_type": "code",
    "id": "MmyaMSLxFzoc"
   },
   "outputs": [],
   "source": [
    "import torch\n",
    "from torch.autograd import Variable, grad"
   ]
  },
  {
   "cell_type": "code",
   "execution_count": 22,
   "metadata": {
    "colab": {},
    "colab_type": "code",
    "id": "4Xv73oEdFzof"
   },
   "outputs": [],
   "source": [
    "### BEGIN Solution\n",
    "\n",
    "### END Solution"
   ]
  },
  {
   "cell_type": "markdown",
   "metadata": {
    "colab_type": "text",
    "id": "sgp8jO0pFzoi"
   },
   "source": [
    "<br>"
   ]
  },
  {
   "cell_type": "markdown",
   "metadata": {
    "colab_type": "text",
    "id": "QP13zCvfFzoi"
   },
   "source": [
    "### Task 2.3 (1 pt.)\n",
    "\n",
    "Compare the results comparing the `absolute errors` of the results (this is possible with Monte-Carlo estimate of the integral). Write 1-2 sentences in the results discussion."
   ]
  },
  {
   "cell_type": "code",
   "execution_count": 23,
   "metadata": {
    "colab": {},
    "colab_type": "code",
    "id": "lsBYivJeFzoj"
   },
   "outputs": [],
   "source": [
    "### BEGIN Solution\n",
    "\n",
    "### END Solution"
   ]
  },
  {
   "cell_type": "markdown",
   "metadata": {
    "colab_type": "text",
    "id": "xhMCmbpgFzom"
   },
   "source": [
    "**BEGIN Solution**\n",
    "\n",
    "**END Solution**"
   ]
  },
  {
   "cell_type": "markdown",
   "metadata": {
    "colab_type": "text",
    "id": "VXQD723RFzom"
   },
   "source": [
    "<br>"
   ]
  },
  {
   "cell_type": "markdown",
   "metadata": {
    "colab_type": "text",
    "id": "-X2UieHvFzon"
   },
   "source": [
    "# Gaussian Processes"
   ]
  },
  {
   "cell_type": "markdown",
   "metadata": {
    "colab_type": "text",
    "id": "lC9OWiswFzon"
   },
   "source": [
    "## Task 3 (1 + 2 = 3 pt.)"
   ]
  },
  {
   "cell_type": "markdown",
   "metadata": {
    "colab_type": "text",
    "id": "2dsp6vvlFzoo"
   },
   "source": [
    "### Task 3.1 (1 pt.)\n",
    "\n",
    "Assuimng the matrices $A \\in \\mathbb{R}^{n \\times n}$ and $D \\in \\mathbb{R}^{d \\times d}$\n",
    "are invertible, using **gaussian elimination** find the inverse matrix for the following\n",
    "block matrix:\n",
    "\\begin{equation}\n",
    "    \\begin{pmatrix} A & B \\\\ C & D \\end{pmatrix} \\,,\n",
    "\\end{equation}\n",
    "where $C \\in \\mathbb{R}^{d \\times n}$ and $B \\in \\mathbb{R}^{n \\times d}$."
   ]
  },
  {
   "cell_type": "markdown",
   "metadata": {
    "colab_type": "text",
    "id": "tYdRC2coFzop"
   },
   "source": [
    "**BEGIN Solution**\n",
    "\n",
    "$$\n",
    "M = \\left [\n",
    "    \\begin{array}{cc}\n",
    "    A & B \\\\\n",
    "    C & D \\\\\n",
    "    \\end{array}\n",
    "\\right ] \\text{ find inverse matrix of } M \\implies \\\\\n",
    "\\left [\n",
    "    \\begin{array}{cc|cc}\n",
    "    A & B & E_n & 0 \\\\\n",
    "    C & D & 0 & E_d \\\\\n",
    "    \\end{array}\n",
    "\\right ] = \\left [\n",
    "    \\begin{array}{cc|cc}\n",
    "    A^{-1} A & A^{-1} B & A^{-1} & 0 \\\\\n",
    "    C        & D        & 0      & E_d \\\\\n",
    "    \\end{array}\n",
    "\\right ] =  \\left [\n",
    "    \\begin{array}{cc|cc}\n",
    "    A^{-1} A & A^{-1} B          & A^{-1}    & 0 \\\\\n",
    "    0        & D - C A^{-1} B    & - C A^{-1} & E_d \\\\\n",
    "    \\end{array}\n",
    "\\right ] = \\left \\{ D - C A^{-1} B = K \\right \\} = \\\\ =\n",
    "\\left [\n",
    "    \\begin{array}{cc|cc}\n",
    "    E_n & A^{-1} B & A^{-1}     & 0 \\\\\n",
    "    0   & K        & - C A^{-1} & E \\\\\n",
    "    \\end{array}\n",
    "\\right ] = \\left [\n",
    "    \\begin{array}{cc|cc}\n",
    "    E_n & A^{-1} B & A^{-1}            & 0 \\\\\n",
    "    0   & K^{-1} K & - K^{-1} C A^{-1} & K^{-1} \\\\\n",
    "    \\end{array}\n",
    "\\right ] = \\\\ = \\left [\n",
    "    \\begin{array}{cc|cc}\n",
    "    E_n & 0   & A^{-1} + A^{-1} B K^{-1} C A^{-1} & -A^{-1} B K^{-1} \\\\\n",
    "    0   & E_d & - K^{-1} C A^{-1}                 & K^{-1} \\\\\n",
    "    \\end{array}\n",
    "\\right ] \\implies M^{-1} = \\left. \\left [\n",
    "    \\begin{array}{cc}\n",
    "    A^{-1} + A^{-1} B K^{-1} C A^{-1} & -A^{-1} B K^{-1} \\\\\n",
    "    - K^{-1} C A^{-1}                 & K^{-1} \\\\\n",
    "    \\end{array}\n",
    "\\right ] \\right|_{D - C A^{-1} B = K}\n",
    "$$\n",
    "\n",
    "<strong>Solution is may be similar with: https://math.stackexchange.com/questions/491237/inverse-of-a-certain-block-matrix<strong>\n",
    "\n",
    "**END Solution**"
   ]
  },
  {
   "cell_type": "markdown",
   "metadata": {
    "colab_type": "text",
    "id": "5OBLUCRkFzop"
   },
   "source": [
    "<br>"
   ]
  },
  {
   "cell_type": "markdown",
   "metadata": {
    "colab_type": "text",
    "id": "htoKkjWbFzoq"
   },
   "source": [
    "### Task 3.2 (2 pt.)\n",
    "\n",
    "Assume that the function $y(x)$, $x \\in \\mathbb{R}^d$, is a realization of the Gaussian\n",
    "Process $GP\\bigl(0; K(\\cdot, \\cdot)\\bigr)$ with $K(a, b) = \\exp({- \\gamma \\|a - b\\|_2^2}))$.\n",
    "\n",
    "Suppose two datasets were observed: **noiseless** ${D_0}$ and **noisy** ${D_1}$\n",
    "\\begin{aligned}\n",
    "    & D_0 = \\bigl(x_i, y(x_i) \\bigr)_{i=1}^{n} \\,, \\\\\n",
    "    & D_1 = \\bigl(x^\\prime_i, y(x^\\prime_i) + \\varepsilon_i \\bigr)_{i=1}^{m} \\,,\n",
    "\\end{aligned}\n",
    "where $\\varepsilon_i \\sim \\text{ iid } \\mathcal{N}(0, \\sigma^2)$, independent of process $y$.\n",
    "\n",
    "Derive the conditional distribution of $y(x) \\big\\vert_{D_0, D_1}$ at a new $x$."
   ]
  },
  {
   "cell_type": "markdown",
   "metadata": {
    "colab_type": "text",
    "id": "SHnznQWxFzor"
   },
   "source": [
    "**BEGIN Solution**\n",
    "\n",
    "**END Solution**"
   ]
  },
  {
   "cell_type": "markdown",
   "metadata": {
    "colab_type": "text",
    "id": "jHluQsIeFzor"
   },
   "source": [
    "<br>"
   ]
  },
  {
   "cell_type": "markdown",
   "metadata": {
    "colab_type": "text",
    "id": "DoNahriLFzos"
   },
   "source": [
    "## Task 4 (1 + 2 = 3 pt.)"
   ]
  },
  {
   "cell_type": "markdown",
   "metadata": {
    "colab_type": "text",
    "id": "Bq6dL65RFzou"
   },
   "source": [
    "### Task 4.1 (1 pt.)"
   ]
  },
  {
   "cell_type": "markdown",
   "metadata": {
    "colab_type": "text",
    "id": "lTjZ4CtbFzov"
   },
   "source": [
    "> In the late 1950’s Charles Keeling invented an accurate way to measure atmospheric $CO_2$ concentration and began taking regular measurements at the Mauna Loa observatory.\n"
   ]
  },
  {
   "cell_type": "markdown",
   "metadata": {
    "colab_type": "text",
    "id": "wfEkI3YwFzow"
   },
   "source": [
    "Take `monthly_co2_mlo.csv` file, load it and prepare the data."
   ]
  },
  {
   "cell_type": "markdown",
   "metadata": {
    "colab_type": "text",
    "id": "vaFDAkTbFzox"
   },
   "source": [
    "0. Load the `CO2 [ppm]` time series\n",
    "1. Replace $-99.99$ with **NaN** and drop the missing observations\n",
    "2. Split the time series into train and test\n",
    "3. Normalize the target value by fitting a transformation on the train\n",
    "4. Plot the resulting target against the time index"
   ]
  },
  {
   "cell_type": "code",
   "execution_count": 24,
   "metadata": {
    "colab": {
     "base_uri": "https://localhost:8080/",
     "height": 915
    },
    "colab_type": "code",
    "executionInfo": {
     "elapsed": 974,
     "status": "error",
     "timestamp": 1551694251454,
     "user": {
      "displayName": "Hegnatin",
      "photoUrl": "",
      "userId": "12850690591307055708"
     },
     "user_tz": -180
    },
    "id": "y_9HDCVaFzoy",
    "outputId": "ddbd5095-0125-425e-cf1d-e9c7c37f526e"
   },
   "outputs": [],
   "source": [
    "import pandas as pd\n",
    "from sklearn.model_selection import train_test_split\n",
    "from sklearn.preprocessing import StandardScaler\n",
    "\n",
    "import warnings\n",
    "warnings.filterwarnings(\"ignore\")\n",
    "\n",
    "### BEGIN Solution\n",
    "\n",
    "scaler = StandardScaler()\n",
    "\n",
    "monthly = pd.read_csv('data/monthly_co2_mlo.csv')\n",
    "\n",
    "monthly = monthly.replace(-99.99, np.nan)\n",
    "monthly = monthly.dropna()\n",
    "year, co_2 = monthly[['year']].values, monthly[['CO2 [ppm]']].values\n",
    "\n",
    "year -= year[0]\n",
    "X_train, X_test, y_train, y_test = train_test_split(year, co_2, shuffle=False)\n",
    "\n",
    "scaler.fit(y_train)\n",
    "\n",
    "y_train = scaler.transform(y_train)\n",
    "y_test = scaler.transform(y_test)\n",
    "\n",
    "### END Solution"
   ]
  },
  {
   "cell_type": "code",
   "execution_count": 25,
   "metadata": {
    "colab": {
     "base_uri": "https://localhost:8080/",
     "height": 335
    },
    "colab_type": "code",
    "executionInfo": {
     "elapsed": 1029,
     "status": "ok",
     "timestamp": 1551559320594,
     "user": {
      "displayName": "Hegnatin",
      "photoUrl": "",
      "userId": "12850690591307055708"
     },
     "user_tz": -180
    },
    "id": "7doW4e1tFzoz",
    "outputId": "266d7ef9-b91e-41e8-a06b-ba8b76805c50"
   },
   "outputs": [
    {
     "data": {
      "image/png": "[encoded data removed]",
      "text/plain": [
       "<Figure size 1008x360 with 1 Axes>"
      ]
     },
     "metadata": {},
     "output_type": "display_data"
    }
   ],
   "source": [
    "plt.figure(figsize=(14, 5))\n",
    "plt.plot(X_train, y_train, label='Train')\n",
    "plt.plot(X_test, y_test, label='Test')\n",
    "\n",
    "plt.plot([X_test[0], X_test[0]], [-2, 4])\n",
    "plt.title('Train and test split')\n",
    "plt.ylabel(r'$ CO_2 $')\n",
    "plt.legend()\n",
    "plt.grid()"
   ]
  },
  {
   "cell_type": "markdown",
   "metadata": {
    "colab_type": "text",
    "id": "b0ZIexrVFzo5"
   },
   "source": [
    "### Task 4.2 (2 pt.)\n",
    "\n",
    "Use [**GPy**](https://pypi.python.org/pypi/GPy) library for training and prediction. Fit a GP and run the predict on the test. Useful kernels to combine: `GPy.kern.RBF, GPy.kern.Poly, GPy.kern.StdPeriodic, GPy.kern.White, GPy.kern.Linear`. \n",
    "\n",
    "1. Plot mean and confidence interval of the prediction. \n",
    "2. Inspect them on normality by scatter plot: plot predicted points/time series against true values. \n",
    "3. Estimate the prediction error with `r2_score`. R2-score accepted > 0.83 on test sample."
   ]
  },
  {
   "cell_type": "code",
   "execution_count": 55,
   "metadata": {
    "colab": {},
    "colab_type": "code",
    "id": "ypJCAFMFFzo5"
   },
   "outputs": [],
   "source": [
    "from GPy.models import GPRegression\n",
    "from GPy.kern import RBF, Poly, StdPeriodic, White, Linear\n",
    "from sklearn.metrics import r2_score"
   ]
  },
  {
   "cell_type": "code",
   "execution_count": 103,
   "metadata": {
    "colab": {
     "base_uri": "https://localhost:8080/",
     "height": 314
    },
    "colab_type": "code",
    "executionInfo": {
     "elapsed": 1233,
     "status": "ok",
     "timestamp": 1551559485699,
     "user": {
      "displayName": "Hegnatin",
      "photoUrl": "",
      "userId": "12850690591307055708"
     },
     "user_tz": -180
    },
    "id": "6Djkk7NTFzo8",
    "outputId": "71ed18f8-9223-41dd-dc1d-19a3f15c1c32"
   },
   "outputs": [],
   "source": [
    "### BEGIN Solution\n",
    "\n",
    "white = White(input_dim=1)\n",
    "poly = Poly(input_dim=1)\n",
    "linear = Linear(input_dim=1)\n",
    "periodic = StdPeriodic(input_dim=1)\n",
    "\n",
    "kernel = rbf + periodic + white + poly\n",
    "\n",
    "m = GPRegression(X_train, y_train, kernel)\n",
    "m.optimize()\n",
    "\n",
    "prediction = m.predict(X_test)[0]\n",
    "\n",
    "### END Solution"
   ]
  },
  {
   "cell_type": "code",
   "execution_count": 104,
   "metadata": {},
   "outputs": [
    {
     "name": "stdout",
     "output_type": "stream",
     "text": [
      "R2 score : 0.9467393606427871\n"
     ]
    }
   ],
   "source": [
    "untrasform_prediction = scaler.inverse_transform(prediction)\n",
    "untrasform_y_test = scaler.inverse_transform(y_test)\n",
    "\n",
    "score = r2_score(untrasform_y_test, untrasform_prediction)"
   ]
  },
  {
   "cell_type": "code",
   "execution_count": 106,
   "metadata": {},
   "outputs": [
    {
     "data": {
      "text/plain": [
       "{'dataplot': [<matplotlib.collections.PathCollection at 0x7fe9a1e24400>],\n",
       " 'gpconfidence': [<matplotlib.collections.PolyCollection at 0x7fe9a1e240b8>],\n",
       " 'gpmean': [[<matplotlib.lines.Line2D at 0x7fe9a1ec1f60>]]}"
      ]
     },
     "execution_count": 106,
     "metadata": {},
     "output_type": "execute_result"
    },
    {
     "data": {
      "image/png": "[encoded data removed]",
      "text/plain": [
       "<Figure size 432x288 with 1 Axes>"
      ]
     },
     "metadata": {},
     "output_type": "display_data"
    }
   ],
   "source": [
    "m.plot()"
   ]
  },
  {
   "cell_type": "code",
   "execution_count": 110,
   "metadata": {},
   "outputs": [
    {
     "data": {
      "image/png": "[encoded data removed]",
      "text/plain": [
       "<Figure size 936x360 with 1 Axes>"
      ]
     },
     "metadata": {},
     "output_type": "display_data"
    }
   ],
   "source": [
    "line = np.linspace(untrasform_y_test.min(), untrasform_y_test.max(), 3)\n",
    "\n",
    "plt.figure(figsize=(13, 5))\n",
    "\n",
    "plt.scatter(untrasform_y_test, untrasform_prediction)\n",
    "plt.plot(line, line, label='x = y')\n",
    "plt.xlabel('True value', fontsize=14)\n",
    "plt.ylabel('Predicted value', fontsize=14)\n",
    "\n",
    "plt.legend(fontsize=14)\n",
    "plt.grid()\n",
    "\n",
    "plt.show()"
   ]
  },
  {
   "cell_type": "code",
   "execution_count": 111,
   "metadata": {
    "colab": {},
    "colab_type": "code",
    "id": "QP4aFa5oFzpB",
    "outputId": "98ef8dbe-795b-42a3-f1d2-73fdf20b0f2f"
   },
   "outputs": [
    {
     "name": "stdout",
     "output_type": "stream",
     "text": [
      "R2 score : 0.9467393606427871\n"
     ]
    }
   ],
   "source": [
    "print('R2 score : {}'.format(score))"
   ]
  }
 ],
 "metadata": {
  "colab": {
   "name": "ML2019HW03-part1.ipynb",
   "provenance": [],
   "version": "0.3.2"
  },
  "kernelspec": {
   "display_name": "Python 3",
   "language": "python",
   "name": "python3"
  },
  "language_info": {
   "codemirror_mode": {
    "name": "ipython",
    "version": 3
   },
   "file_extension": ".py",
   "mimetype": "text/x-python",
   "name": "python",
   "nbconvert_exporter": "python",
   "pygments_lexer": "ipython3",
   "version": "3.6.6"
  }
 },
 "nbformat": 4,
 "nbformat_minor": 2
}
