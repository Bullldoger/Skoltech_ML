{
 "cells": [
  {
   "cell_type": "markdown",
   "metadata": {
    "colab_type": "text",
    "id": "TeKGw879FzoI"
   },
   "source": [
    "# Home Assignment No. 3: Part 1 "
   ]
  },
  {
   "cell_type": "markdown",
   "metadata": {
    "colab_type": "text",
    "id": "j8OiUER8FzoJ"
   },
   "source": [
    "In this part of the homework you are to solve several problems related to machine learning algorithms.\n",
    "* For every separate problem you can get only 0 points or maximal points for this problem. There are **NO INTERMEDIATE scores**.\n",
    "* Your solution must me **COMPLETE**, i.e. contain all required formulas/proofs/detailed explanations.\n",
    "* You must write your solution for any problem just right after the words **BEGIN SOLUTION**. Attaching pictures of your handwriting is allowed, but **highly discouraged**.\n",
    "* If you want an easy life, you have to use **BUILT-IN METHODS** of `sklearn` library instead of writing tons of our yown code. There exists a class/method for almost everything you can imagine (related to this homework).\n",
    "* To do some tasks in this part of homework, you have to write **CODE** directly inside specified places inside notebook **CELLS**.\n",
    "* In some problems you may be asked to provide short discussion of the results. In this cases you have to create **MARKDOWN** cell with your comments right after the your code cell.\n",
    "* Your **SOLUTION** notebook **MUST BE REPRODUCIBLE**, i.e. if the reviewer decides to execute `Kernel` -> `Restart Kernel and Run All Cells`, after all the computation he will obtain exactly the same solution (with all the corresponding plots) as in your uploaded notebook. For this purpose, we suggest to fix random `seed` or (better) define `random_state=` inside every algorithm that uses some pseudorandomness.\n",
    "\n",
    "* Your code must be clear to the reviewer. For this purpose, try to include neccessary comments inside the code. But remember: **GOOD CODE MUST BE SELF-EXPLANATORY** without any additional comments.\n",
    "* The are problems with \\* mark - they are not obligatory. You can get **EXTRA POINTS** for solving them.\n",
    "## $\\LaTeX$ in Jupyter\n",
    "Jupyter has constantly improving $\\LaTeX$ support. Below are the basic methods to\n",
    "write **neat, tidy, and well typeset** equations in your notebooks:\n",
    "* to write an **inline** equation use \n",
    "```markdown\n",
    "$ you latex equation here $\n",
    "```\n",
    "* to write an equation, that is **displayed on a separate line** use \n",
    "```markdown\n",
    "$$ you latex equation here $$\n",
    "```\n",
    "* to write a **block of equations** use \n",
    "```markdown\n",
    "\\begin{align}\n",
    "    left-hand-side\n",
    "        &= right-hand-side on line 1\n",
    "        \\\\\n",
    "        &= right-hand-side on line 2\n",
    "        \\\\\n",
    "        &= right-hand-side on the last line\n",
    "\\end{align}\n",
    "```\n",
    "The **ampersand** (`&`) aligns the equations horizontally and the **double backslash**\n",
    "(`\\\\`) creates a new line."
   ]
  },
  {
   "cell_type": "markdown",
   "metadata": {
    "colab_type": "text",
    "id": "RtzFOsi_FzoK"
   },
   "source": [
    "Write your theoretical derivations within such blocks:\n",
    "```markdown\n",
    "**BEGIN Solution**\n",
    "\n",
    "<!-- >>> your derivation here <<< -->\n",
    "\n",
    "**END Solution**\n",
    "```"
   ]
  },
  {
   "cell_type": "markdown",
   "metadata": {
    "colab_type": "text",
    "id": "81iKbF_eFzoL"
   },
   "source": [
    "Please, write your implementation within the designated blocks:\n",
    "```python\n",
    "...\n",
    "### BEGIN Solution\n",
    "\n",
    "# >>> your solution here <<<\n",
    "\n",
    "### END Solution\n",
    "...\n",
    "```\n"
   ]
  },
  {
   "cell_type": "markdown",
   "metadata": {
    "colab_type": "text",
    "id": "ZjTQHlGHFzoL"
   },
   "source": [
    "<br>"
   ]
  },
  {
   "cell_type": "code",
   "execution_count": 18,
   "metadata": {
    "colab": {},
    "colab_type": "code",
    "id": "faeqGsrsFzoM"
   },
   "outputs": [],
   "source": [
    "import numpy as np\n",
    "import pandas as pd\n",
    "\n",
    "import torch\n",
    "\n",
    "%matplotlib inline\n",
    "import matplotlib.pyplot as plt"
   ]
  },
  {
   "cell_type": "markdown",
   "metadata": {
    "colab_type": "text",
    "id": "XEoNzf43FzoP"
   },
   "source": [
    "<br>"
   ]
  },
  {
   "cell_type": "markdown",
   "metadata": {
    "colab_type": "text",
    "id": "amYsX3DKFzoQ"
   },
   "source": [
    "# Bayesian Models. GLM"
   ]
  },
  {
   "cell_type": "markdown",
   "metadata": {
    "colab_type": "text",
    "id": "cE9Krb1jFzoR"
   },
   "source": [
    "## Task 1 (1 pt.)\n",
    "\n",
    "Consider a univariate Gaussian distribution $\\mathcal{N}(x; \\mu, \\tau^{-1})$.\n",
    "Let's define Gaussian-Gamma prior for parameters $(\\mu, \\tau)$:\n",
    "\n",
    "\\begin{equation}\n",
    "    p(\\mu, \\tau)\n",
    "        = \\mathcal{N}(\\mu; \\mu_0, (\\beta \\tau)^{-1})\n",
    "            \\otimes \\text{Gamma}(\\tau; a, b)\n",
    "        \\,.\n",
    "\\end{equation}\n",
    "\n",
    "Find the posterior distribution of $(\\mu, \\tau)$ after observing $X = (x_1, \\dots, x_n)$."
   ]
  },
  {
   "cell_type": "markdown",
   "metadata": {
    "colab_type": "text",
    "id": "qIidE2gFFzoR"
   },
   "source": [
    "**BEGIN Solution**\n",
    "\n",
    "**END Solution**"
   ]
  },
  {
   "cell_type": "markdown",
   "metadata": {
    "colab_type": "text",
    "id": "VKPtwQhFFzoS"
   },
   "source": [
    "<br>"
   ]
  },
  {
   "cell_type": "markdown",
   "metadata": {
    "colab_type": "text",
    "id": "MjdM2qMJFzoT"
   },
   "source": [
    "## Task 2 (1 + 1 + 1 = 3 pt.)\n",
    "\n",
    "Evaluate the following integral using the Laplace approximation:\n",
    "\\begin{equation}\n",
    "    x \\mapsto \\int \\sigma(w^T x) \\mathcal{N}(w; 0, \\Sigma) dw \\,,\n",
    "\\end{equation}\n",
    "for $x = \\bigl(\\tfrac23, \\tfrac16, \\tfrac16\\bigr)\\in \\mathbb{R}^3$ and \n",
    "\\begin{equation}\n",
    "    \\Sigma\n",
    "        = \\begin{pmatrix}\n",
    "             1    & -0.25 & 0.75 \\\\\n",
    "            -0.25 &  1    & 0.5  \\\\\n",
    "             0.75 &  0.5  & 2\n",
    "           \\end{pmatrix}\n",
    "        \\,.\n",
    "\\end{equation}"
   ]
  },
  {
   "cell_type": "markdown",
   "metadata": {
    "colab_type": "text",
    "id": "xVXtmt1nFzoT"
   },
   "source": [
    "### Task 2.1 (1 pt.)\n",
    "Use the Hessian matrix computed numericaly via finite differences. (Check out [Numdifftools](https://pypi.python.org/pypi/Numdifftools))"
   ]
  },
  {
   "cell_type": "markdown",
   "metadata": {},
   "source": [
    "# NOT DONE"
   ]
  },
  {
   "cell_type": "code",
   "execution_count": 18,
   "metadata": {
    "colab": {},
    "colab_type": "code",
    "id": "lg8gOgPGFzoU"
   },
   "outputs": [],
   "source": [
    "import numdifftools as nd\n",
    "from scipy.optimize import minimize\n",
    "import numpy as np\n",
    "from scipy import stats\n",
    "\n",
    "%matplotlib inline\n",
    "import matplotlib.pyplot as plt"
   ]
  },
  {
   "cell_type": "code",
   "execution_count": 19,
   "metadata": {
    "colab": {},
    "colab_type": "code",
    "id": "AiOiVXs5FzoX"
   },
   "outputs": [],
   "source": [
    "### BEGIN Solution\n",
    "\n",
    "x = np.array([[2 / 3], [1 / 6], [1 / 6]])\n",
    "S = np.array([[1, -0.25, 0.75], [-0.25, 1, 0.5], [0.75, 0.5, 2]])\n",
    "\n",
    "normal = lambda x: stats.multivariate_normal(mean=np.zeros(3), cov=S).pdf(x)\n",
    "sigma = lambda y: 1 + np.exp(-x.transpose() @ y)\n",
    "log_function = lambda x: -np.log(normal(x) / sigma(x))\n",
    "hessian = lambda x: nd.core.Hessian(log_function)(x)\n",
    "\n",
    "x0 = minimize(logf, x0=np.zeros(3)).x\n",
    "val = normal(x0) / sigma(x0) * np.sqrt(2 * np.pi) ** 3 / np.sqrt(np.abs(np.linalg.det(hessian(x0))))\n",
    "\n",
    "### END Solution"
   ]
  },
  {
   "cell_type": "code",
   "execution_count": 20,
   "metadata": {},
   "outputs": [
    {
     "name": "stdout",
     "output_type": "stream",
     "text": [
      "Integral: 0.4979197220695065\n"
     ]
    }
   ],
   "source": [
    "print('Integral: {}'.format(val[0]))"
   ]
  },
  {
   "cell_type": "markdown",
   "metadata": {
    "colab_type": "text",
    "id": "OkW0E4UZFzob"
   },
   "source": [
    "### Task 2.2 (1 pt.)\n",
    "Use the diagonal approximation of the Hessian computed by autodifferentiation\n",
    "in **pytorch**."
   ]
  },
  {
   "cell_type": "code",
   "execution_count": 21,
   "metadata": {
    "colab": {},
    "colab_type": "code",
    "id": "MmyaMSLxFzoc"
   },
   "outputs": [],
   "source": [
    "import torch\n",
    "from torch.autograd import Variable, grad"
   ]
  },
  {
   "cell_type": "code",
   "execution_count": 23,
   "metadata": {
    "colab": {},
    "colab_type": "code",
    "id": "4Xv73oEdFzof"
   },
   "outputs": [
    {
     "name": "stdout",
     "output_type": "stream",
     "text": [
      "Integral: 0.29643094539642334\n"
     ]
    },
    {
     "name": "stderr",
     "output_type": "stream",
     "text": [
      "/home/hegnatin/projects/.venv/lib/python3.6/site-packages/ipykernel_launcher.py:12: UserWarning: To copy construct from a tensor, it is recommended to use sourceTensor.clone().detach() or sourceTensor.clone().detach().requires_grad_(True), rather than torch.tensor(sourceTensor).\n",
      "  if sys.path[0] == '':\n"
     ]
    }
   ],
   "source": [
    "### BEGIN Solution\n",
    "\n",
    "dx = Variable(torch.FloatTensor(x))\n",
    "tcov = Variable(torch.FloatTensor(S))\n",
    "\n",
    "normal = (2 * np.pi) ** (1.5) * np.sqrt(np.linalg.det(S))\n",
    "sigma = lambda x: torch.sigmoid(x @ dx)\n",
    "func = lambda x: (sigma(x) / normal) * (torch.exp(-0.5 * x @ torch.inverse(tcov) @ x))\n",
    "log_function = lambda x: -torch.log(func(x))\n",
    "\n",
    "def hessian(x0, log_func):\n",
    "    x0 = torch.tensor(x0, requires_grad = True).float()\n",
    "    f_values = log_function(x0)\n",
    "    grad = torch.autograd.grad(f_values, x0, create_graph=True)[0]\n",
    "    result = np.zeros(shape=(len(x0), len(x0)))\n",
    "    for i in range(len(x0)):\n",
    "        result[:,i] = torch.autograd.grad(grad[i], x0, create_graph=True)[0].data.numpy()\n",
    "        \n",
    "    return np.diag(np.diag(result))\n",
    "\n",
    "x0 = torch.FloatTensor(x0)\n",
    "_x = Variable(torch.FloatTensor(x))\n",
    "\n",
    "value = func(x0) * (2 * np.pi) ** (1.5) / np.sqrt(np.abs(np.linalg.det(hessian(x0, log_function))))\n",
    "\n",
    "print('Integral: {}'.format(value[0]))\n",
    "\n",
    "### END Solution"
   ]
  },
  {
   "cell_type": "markdown",
   "metadata": {
    "colab_type": "text",
    "id": "sgp8jO0pFzoi"
   },
   "source": [
    "<br>"
   ]
  },
  {
   "cell_type": "markdown",
   "metadata": {
    "colab_type": "text",
    "id": "QP13zCvfFzoi"
   },
   "source": [
    "### Task 2.3 (1 pt.)\n",
    "\n",
    "Compare the results comparing the `absolute errors` of the results (this is possible with Monte-Carlo estimate of the integral). Write 1-2 sentences in the results discussion."
   ]
  },
  {
   "cell_type": "code",
   "execution_count": 29,
   "metadata": {
    "colab": {},
    "colab_type": "code",
    "id": "lsBYivJeFzoj"
   },
   "outputs": [
    {
     "name": "stdout",
     "output_type": "stream",
     "text": [
      "Relative error, 1 case = 0.013\n",
      "Relative error, 2 case = 0.397\n"
     ]
    }
   ],
   "source": [
    "### BEGIN Solution\n",
    "mc = np.mean(1 / (np.exp(-stats.multivariate_normal.rvs(np.zeros(3), S, size = 530) @ x) + 1))\n",
    "error_1 = abs(mc - val) / mc\n",
    "error_2 = abs(mc - value) / mc\n",
    "print('Relative error, 1 case = {:.3f}'.format(error_1[0]))\n",
    "print('Relative error, 2 case = {:.3f}'.format(error_2[0]))\n",
    "### END Solution"
   ]
  },
  {
   "cell_type": "markdown",
   "metadata": {
    "colab_type": "text",
    "id": "xhMCmbpgFzom"
   },
   "source": [
    "**BEGIN Solution**\n",
    "\n",
    "**END Solution**"
   ]
  },
  {
   "cell_type": "markdown",
   "metadata": {
    "colab_type": "text",
    "id": "VXQD723RFzom"
   },
   "source": [
    "<br>"
   ]
  },
  {
   "cell_type": "markdown",
   "metadata": {
    "colab_type": "text",
    "id": "-X2UieHvFzon"
   },
   "source": [
    "# Gaussian Processes"
   ]
  },
  {
   "cell_type": "markdown",
   "metadata": {
    "colab_type": "text",
    "id": "lC9OWiswFzon"
   },
   "source": [
    "## Task 3 (1 + 2 = 3 pt.)"
   ]
  },
  {
   "cell_type": "markdown",
   "metadata": {
    "colab_type": "text",
    "id": "2dsp6vvlFzoo"
   },
   "source": [
    "### Task 3.1 (1 pt.)\n",
    "\n",
    "Assuimng the matrices $A \\in \\mathbb{R}^{n \\times n}$ and $D \\in \\mathbb{R}^{d \\times d}$\n",
    "are invertible, using **gaussian elimination** find the inverse matrix for the following\n",
    "block matrix:\n",
    "\\begin{equation}\n",
    "    \\begin{pmatrix} A & B \\\\ C & D \\end{pmatrix} \\,,\n",
    "\\end{equation}\n",
    "where $C \\in \\mathbb{R}^{d \\times n}$ and $B \\in \\mathbb{R}^{n \\times d}$."
   ]
  },
  {
   "cell_type": "markdown",
   "metadata": {
    "colab_type": "text",
    "id": "tYdRC2coFzop"
   },
   "source": [
    "**BEGIN Solution**\n",
    "\n",
    "$$\n",
    "M = \\left [\n",
    "    \\begin{array}{cc}\n",
    "    A & B \\\\\n",
    "    C & D \\\\\n",
    "    \\end{array}\n",
    "\\right ] \\text{ find inverse matrix of } M \\implies \\\\\n",
    "\\left [\n",
    "    \\begin{array}{cc|cc}\n",
    "    A & B & E_n & 0 \\\\\n",
    "    C & D & 0 & E_d \\\\\n",
    "    \\end{array}\n",
    "\\right ] = \\left [\n",
    "    \\begin{array}{cc|cc}\n",
    "    A^{-1} A & A^{-1} B & A^{-1} & 0 \\\\\n",
    "    C        & D        & 0      & E_d \\\\\n",
    "    \\end{array}\n",
    "\\right ] =  \\left [\n",
    "    \\begin{array}{cc|cc}\n",
    "    A^{-1} A & A^{-1} B          & A^{-1}    & 0 \\\\\n",
    "    0        & D - C A^{-1} B    & - C A^{-1} & E_d \\\\\n",
    "    \\end{array}\n",
    "\\right ] = \\left \\{ D - C A^{-1} B = K \\right \\} = \\\\ =\n",
    "\\left [\n",
    "    \\begin{array}{cc|cc}\n",
    "    E_n & A^{-1} B & A^{-1}     & 0 \\\\\n",
    "    0   & K        & - C A^{-1} & E \\\\\n",
    "    \\end{array}\n",
    "\\right ] = \\left [\n",
    "    \\begin{array}{cc|cc}\n",
    "    E_n & A^{-1} B & A^{-1}            & 0 \\\\\n",
    "    0   & K^{-1} K & - K^{-1} C A^{-1} & K^{-1} \\\\\n",
    "    \\end{array}\n",
    "\\right ] = \\\\ = \\left [\n",
    "    \\begin{array}{cc|cc}\n",
    "    E_n & 0   & A^{-1} + A^{-1} B K^{-1} C A^{-1} & -A^{-1} B K^{-1} \\\\\n",
    "    0   & E_d & - K^{-1} C A^{-1}                 & K^{-1} \\\\\n",
    "    \\end{array}\n",
    "\\right ] \\implies M^{-1} = \\left. \\left [\n",
    "    \\begin{array}{cc}\n",
    "    A^{-1} + A^{-1} B K^{-1} C A^{-1} & -A^{-1} B K^{-1} \\\\\n",
    "    - K^{-1} C A^{-1}                 & K^{-1} \\\\\n",
    "    \\end{array}\n",
    "\\right ] \\right|_{D - C A^{-1} B = K}\n",
    "$$\n",
    "\n",
    "<strong>Solution is may be similar with: https://math.stackexchange.com/questions/491237/inverse-of-a-certain-block-matrix<strong>\n",
    "\n",
    "**END Solution**"
   ]
  },
  {
   "cell_type": "markdown",
   "metadata": {
    "colab_type": "text",
    "id": "5OBLUCRkFzop"
   },
   "source": [
    "<br>"
   ]
  },
  {
   "cell_type": "markdown",
   "metadata": {
    "colab_type": "text",
    "id": "htoKkjWbFzoq"
   },
   "source": [
    "### Task 3.2 (2 pt.)\n",
    "\n",
    "Assume that the function $y(x)$, $x \\in \\mathbb{R}^d$, is a realization of the Gaussian\n",
    "Process $GP\\bigl(0; K(\\cdot, \\cdot)\\bigr)$ with $K(a, b) = \\exp({- \\gamma \\|a - b\\|_2^2}))$.\n",
    "\n",
    "Suppose two datasets were observed: **noiseless** ${D_0}$ and **noisy** ${D_1}$\n",
    "\\begin{aligned}\n",
    "    & D_0 = \\bigl(x_i, y(x_i) \\bigr)_{i=1}^{n} \\,, \\\\\n",
    "    & D_1 = \\bigl(x^\\prime_i, y(x^\\prime_i) + \\varepsilon_i \\bigr)_{i=1}^{m} \\,,\n",
    "\\end{aligned}\n",
    "where $\\varepsilon_i \\sim \\text{ iid } \\mathcal{N}(0, \\sigma^2)$, independent of process $y$.\n",
    "\n",
    "Derive the conditional distribution of $y(x) \\big\\vert_{D_0, D_1}$ at a new $x$."
   ]
  },
  {
   "cell_type": "markdown",
   "metadata": {},
   "source": [
    "**BEGIN Solution**\n",
    "\n",
    "So, $ D = D_0 \\bigcup D_1 $, and $ p(y(x) | x^*, D_0, D_1) p(y^*, x^*, D_0, D_1) $ - joint distribution.\n",
    "\n",
    "Kernel for $ D_0, D_1 $ observation has block structure:\n",
    "$$\n",
    "K = \\begin{bmatrix}\n",
    "    K_{1, 1} & K_{1, 2} \\\\\n",
    "    K_{2, 1} & K_{2, 2}\n",
    "\\end{bmatrix} \\\\\n",
    "K_{1, 1} = \\left [ exp ( -\\gamma \\| x_i - x_j \\| ) \\right ] \\forall x_i, x_j \\in D_0 \\\\\n",
    "K_{1, 2} = K_{2, 1} = \\left [ exp ( -\\gamma \\| x_i - x_j \\| ) \\right ] \\forall x_i \\in D_0, x_j \\in D_1 \\\\\n",
    "K_{2, 2} = \\left [ exp ( -\\gamma \\| x_i - x_j \\| ) \\right ] + \\sigma^2 \\delta_{i, j} \\forall x_i, x_j \\in D_1 \\\\\n",
    "\\implies p(D_0, D_1) = \\mathcal{N} \\left ( 0, \\begin{bmatrix}\n",
    "    K_{1, 1} & K_{1, 2} \\\\\n",
    "    K_{2, 1} & K_{2, 2}\n",
    "\\end{bmatrix} \\right )\n",
    "$$\n",
    "\n",
    "When we have new point $ x^* $:\n",
    "\n",
    "$$\n",
    "p(y^* | x^*, D_0, D_1) = \\dfrac{p(y^*, x^*, D_0, D_1)}{p(D_0, D_1)}\n",
    "$$\n",
    "\n",
    "$ p(y^*, x^*, D_0, D_1) $ - for this case, we:\n",
    "$$\n",
    "\\hat{K} = \\begin{bmatrix}\n",
    "    K_{1, 1} & K_{1, 2} & K_{1, *} \\\\\n",
    "    K_{2, 1} & K_{2, 2} & K_{2, *} \\\\\n",
    "    K_{*, 1} & K_{*, 2} & K_{*, *} \\\\\n",
    "\\end{bmatrix}, \\text{ where : } \\\\\n",
    "K_{*, 1} = K_{1, *} = \\left [ K(x^*, x_1), \\dots, K(x^*, x_n) \\right ] \\forall x_i \\in D_0 \\\\\n",
    "K_{*, 2} = K_{2, *} = \\left [ K(x^*, x_1), \\dots, K(x^*, x_n) \\right ] \\forall x_i \\in D_1 \\\\\n",
    "\\implies p(y^*, x^*, D_0, D_1) = \\mathcal{N} \\left ( 0, \\begin{bmatrix}\n",
    "    K_{1, 1} & K_{1, 2} & K_{1, *} \\\\\n",
    "    K_{2, 1} & K_{2, 2} & K_{2, *} \\\\\n",
    "    K_{*, 1} & K_{*, 2} & K_{*, *} \\\\\n",
    "\\end{bmatrix} \\right )\n",
    "$$\n",
    "\n",
    "Result: \n",
    "$$\n",
    "p(y^* | x^*, D_0, D_1) = \\dfrac{p(y^*, x^*, D_0, D_1)}{p(D_0, D_1)}\n",
    "$$\n",
    "\n",
    "As the result, we have:\n",
    "$$\n",
    "\\Sigma_{11} = \\begin{bmatrix}\n",
    "    K_{1, 1} & K_{1, 2} \\\\\n",
    "    K_{2, 1} & K_{2, 2}\n",
    "\\end{bmatrix}\n",
    "$$\n",
    "\n",
    "$$\n",
    "\\Sigma_{22} = K(x^*, x^*) \\\\\n",
    "\\Sigma_{12} = \\left [ K_{*, 1}, K_{*, 2} \\right ]^\\top\n",
    "$$\n",
    "\n",
    "\n",
    "$$\n",
    "p(y^* | D_0, D_1) = \\mathcal{N} \\left ( \\Sigma_{12}^\\top \\Sigma_{11}^{-1} y, \\Sigma_{22} - \\Sigma_{12}^\\top \\Sigma_{11}^{-1} \\Sigma_{12} \\right )\n",
    "$$\n",
    "from Lecture_14_Gaussian_Processes_handout.pdf, 25 slide.\n",
    "\n",
    "From previous task, we have equation for inverse block matrix:\n",
    "$$\n",
    "\\Sigma_{11}^{-1} = \\begin{bmatrix}\n",
    "    K_{1, 1} & K_{1, 2} \\\\\n",
    "    K_{2, 1} & K_{2, 2} + \\sigma^2 I_{m}\n",
    "\\end{bmatrix}^{-1} = \\\\ = \\left. \\left [\n",
    "    \\begin{array}{cc}\n",
    "    K_{1, 1}^{-1} + K_{1, 1}^{-1} K_{1, 2} K^{-1} K_{2, 1} K_{1, 1}^{-1} & -K_{1, 1}^{-1} K_{1, 2} K^{-1} \\\\\n",
    "    - K^{-1} K_{2, 1} K_{1, 1}^{-1}                 & K^{-1} \\\\\n",
    "    \\end{array}\n",
    "\\right ] \\right|_{K_{2, 2} + \\sigma^2 I_{m} - K_{2, 1} K_{1, 1}^{-1} K_{1, 2} = K}\n",
    "$$\n",
    "\n",
    "\n",
    "**END Solution**"
   ]
  },
  {
   "cell_type": "markdown",
   "metadata": {
    "colab_type": "text",
    "id": "DoNahriLFzos"
   },
   "source": [
    "## Task 4 (1 + 2 = 3 pt.)"
   ]
  },
  {
   "cell_type": "markdown",
   "metadata": {
    "colab_type": "text",
    "id": "Bq6dL65RFzou"
   },
   "source": [
    "### Task 4.1 (1 pt.)"
   ]
  },
  {
   "cell_type": "markdown",
   "metadata": {
    "colab_type": "text",
    "id": "lTjZ4CtbFzov"
   },
   "source": [
    "> In the late 1950’s Charles Keeling invented an accurate way to measure atmospheric $CO_2$ concentration and began taking regular measurements at the Mauna Loa observatory.\n"
   ]
  },
  {
   "cell_type": "markdown",
   "metadata": {
    "colab_type": "text",
    "id": "wfEkI3YwFzow"
   },
   "source": [
    "Take `monthly_co2_mlo.csv` file, load it and prepare the data."
   ]
  },
  {
   "cell_type": "markdown",
   "metadata": {
    "colab_type": "text",
    "id": "vaFDAkTbFzox"
   },
   "source": [
    "0. Load the `CO2 [ppm]` time series\n",
    "1. Replace $-99.99$ with **NaN** and drop the missing observations\n",
    "2. Split the time series into train and test\n",
    "3. Normalize the target value by fitting a transformation on the train\n",
    "4. Plot the resulting target against the time index"
   ]
  },
  {
   "cell_type": "code",
   "execution_count": 30,
   "metadata": {
    "colab": {
     "base_uri": "https://localhost:8080/",
     "height": 915
    },
    "colab_type": "code",
    "executionInfo": {
     "elapsed": 974,
     "status": "error",
     "timestamp": 1551694251454,
     "user": {
      "displayName": "Hegnatin",
      "photoUrl": "",
      "userId": "12850690591307055708"
     },
     "user_tz": -180
    },
    "id": "y_9HDCVaFzoy",
    "outputId": "ddbd5095-0125-425e-cf1d-e9c7c37f526e"
   },
   "outputs": [],
   "source": [
    "import pandas as pd\n",
    "from sklearn.model_selection import train_test_split\n",
    "from sklearn.preprocessing import StandardScaler\n",
    "\n",
    "import warnings\n",
    "warnings.filterwarnings(\"ignore\")\n",
    "\n",
    "### BEGIN Solution\n",
    "\n",
    "scaler = StandardScaler()\n",
    "\n",
    "monthly = pd.read_csv('data/monthly_co2_mlo.csv')\n",
    "\n",
    "monthly = monthly.replace(-99.99, np.nan)\n",
    "monthly = monthly.dropna()\n",
    "year, co_2 = monthly[['year']].values, monthly[['CO2 [ppm]']].values\n",
    "\n",
    "year -= year[0]\n",
    "X_train, X_test, y_train, y_test = train_test_split(year, co_2, shuffle=False)\n",
    "\n",
    "scaler.fit(y_train)\n",
    "\n",
    "y_train = scaler.transform(y_train)\n",
    "y_test = scaler.transform(y_test)\n",
    "\n",
    "### END Solution"
   ]
  },
  {
   "cell_type": "code",
   "execution_count": 31,
   "metadata": {
    "colab": {
     "base_uri": "https://localhost:8080/",
     "height": 335
    },
    "colab_type": "code",
    "executionInfo": {
     "elapsed": 1029,
     "status": "ok",
     "timestamp": 1551559320594,
     "user": {
      "displayName": "Hegnatin",
      "photoUrl": "",
      "userId": "12850690591307055708"
     },
     "user_tz": -180
    },
    "id": "7doW4e1tFzoz",
    "outputId": "266d7ef9-b91e-41e8-a06b-ba8b76805c50"
   },
   "outputs": [
    {
     "data": {
      "image/png": "[encoded data removed]",
      "text/plain": [
       "<Figure size 1008x360 with 1 Axes>"
      ]
     },
     "metadata": {},
     "output_type": "display_data"
    }
   ],
   "source": [
    "plt.figure(figsize=(14, 5))\n",
    "plt.plot(X_train, y_train, label='Train')\n",
    "plt.plot(X_test, y_test, label='Test')\n",
    "\n",
    "plt.plot([X_test[0], X_test[0]], [-2, 4])\n",
    "plt.title('Train and test split')\n",
    "plt.ylabel(r'$ CO_2 $')\n",
    "plt.legend()\n",
    "plt.grid()"
   ]
  },
  {
   "cell_type": "markdown",
   "metadata": {
    "colab_type": "text",
    "id": "b0ZIexrVFzo5"
   },
   "source": [
    "### Task 4.2 (2 pt.)\n",
    "\n",
    "Use [**GPy**](https://pypi.python.org/pypi/GPy) library for training and prediction. Fit a GP and run the predict on the test. Useful kernels to combine: `GPy.kern.RBF, GPy.kern.Poly, GPy.kern.StdPeriodic, GPy.kern.White, GPy.kern.Linear`. \n",
    "\n",
    "1. Plot mean and confidence interval of the prediction. \n",
    "2. Inspect them on normality by scatter plot: plot predicted points/time series against true values. \n",
    "3. Estimate the prediction error with `r2_score`. R2-score accepted > 0.83 on test sample."
   ]
  },
  {
   "cell_type": "code",
   "execution_count": 32,
   "metadata": {
    "colab": {},
    "colab_type": "code",
    "id": "ypJCAFMFFzo5"
   },
   "outputs": [],
   "source": [
    "from GPy.models import GPRegression\n",
    "from GPy.kern import RBF, Poly, StdPeriodic, White, Linear\n",
    "from sklearn.metrics import r2_score"
   ]
  },
  {
   "cell_type": "code",
   "execution_count": 33,
   "metadata": {
    "colab": {
     "base_uri": "https://localhost:8080/",
     "height": 314
    },
    "colab_type": "code",
    "executionInfo": {
     "elapsed": 1233,
     "status": "ok",
     "timestamp": 1551559485699,
     "user": {
      "displayName": "Hegnatin",
      "photoUrl": "",
      "userId": "12850690591307055708"
     },
     "user_tz": -180
    },
    "id": "6Djkk7NTFzo8",
    "outputId": "71ed18f8-9223-41dd-dc1d-19a3f15c1c32"
   },
   "outputs": [],
   "source": [
    "### BEGIN Solution\n",
    "\n",
    "rbf = RBF(input_dim=1)\n",
    "white = White(input_dim=1)\n",
    "poly = Poly(input_dim=1)\n",
    "linear = Linear(input_dim=1)\n",
    "periodic = StdPeriodic(input_dim=1)\n",
    "\n",
    "kernel = periodic * poly + rbf\n",
    "\n",
    "m = GPRegression(X_train, y_train, kernel)\n",
    "m.optimize()\n",
    "\n",
    "prediction = m.predict(X_test)[0]\n",
    "\n",
    "### END Solution"
   ]
  },
  {
   "cell_type": "code",
   "execution_count": 34,
   "metadata": {},
   "outputs": [],
   "source": [
    "untrasform_prediction = scaler.inverse_transform(prediction)\n",
    "untrasform_y_test = scaler.inverse_transform(y_test)\n",
    "\n",
    "score = r2_score(untrasform_y_test, untrasform_prediction)"
   ]
  },
  {
   "cell_type": "code",
   "execution_count": 35,
   "metadata": {},
   "outputs": [
    {
     "data": {
      "text/plain": [
       "{'dataplot': [<matplotlib.collections.PathCollection at 0x7faa435cbda0>],\n",
       " 'gpconfidence': [<matplotlib.collections.PolyCollection at 0x7faa435ab2b0>],\n",
       " 'gpmean': [[<matplotlib.lines.Line2D at 0x7faa4464ceb8>]]}"
      ]
     },
     "execution_count": 35,
     "metadata": {},
     "output_type": "execute_result"
    },
    {
     "data": {
      "image/png": "[encoded data removed]",
      "text/plain": [
       "<Figure size 432x288 with 1 Axes>"
      ]
     },
     "metadata": {},
     "output_type": "display_data"
    }
   ],
   "source": [
    "m.plot()"
   ]
  },
  {
   "cell_type": "code",
   "execution_count": 36,
   "metadata": {},
   "outputs": [
    {
     "data": {
      "image/png": "[encoded data removed]",
      "text/plain": [
       "<Figure size 936x360 with 1 Axes>"
      ]
     },
     "metadata": {},
     "output_type": "display_data"
    }
   ],
   "source": [
    "line = np.linspace(untrasform_y_test.min(), untrasform_y_test.max(), 3)\n",
    "\n",
    "plt.figure(figsize=(13, 5))\n",
    "\n",
    "plt.scatter(untrasform_y_test, untrasform_prediction)\n",
    "plt.plot(line, line, label='x = y')\n",
    "plt.xlabel('True value', fontsize=14)\n",
    "plt.ylabel('Predicted value', fontsize=14)\n",
    "\n",
    "plt.legend(fontsize=14)\n",
    "plt.grid()\n",
    "\n",
    "plt.show()"
   ]
  },
  {
   "cell_type": "code",
   "execution_count": 37,
   "metadata": {
    "colab": {},
    "colab_type": "code",
    "id": "QP4aFa5oFzpB",
    "outputId": "98ef8dbe-795b-42a3-f1d2-73fdf20b0f2f"
   },
   "outputs": [
    {
     "name": "stdout",
     "output_type": "stream",
     "text": [
      "R2 score : 0.9205229929856151\n"
     ]
    }
   ],
   "source": [
    "print('R2 score : {}'.format(score))"
   ]
  }
 ],
 "metadata": {
  "colab": {
   "name": "ML2019HW03-part1.ipynb",
   "provenance": [],
   "version": "0.3.2"
  },
  "kernelspec": {
   "display_name": "Python 3",
   "language": "python",
   "name": "python3"
  },
  "language_info": {
   "codemirror_mode": {
    "name": "ipython",
    "version": 3
   },
   "file_extension": ".py",
   "mimetype": "text/x-python",
   "name": "python",
   "nbconvert_exporter": "python",
   "pygments_lexer": "ipython3",
   "version": "3.6.6"
  }
 },
 "nbformat": 4,
 "nbformat_minor": 2
}
